{
 "cells": [
  {
   "cell_type": "markdown",
   "metadata": {},
   "source": [
    "# Import"
   ]
  },
  {
   "cell_type": "code",
   "execution_count": 1,
   "metadata": {},
   "outputs": [],
   "source": [
    "import numpy as np\n",
    "import pandas as pd\n",
    "import matplotlib.pyplot as plt\n",
    "%matplotlib inline\n",
    "\n",
    "from keras.models import Model\n",
    "from keras.layers import Input, Dense\n",
    "from keras.datasets import mnist"
   ]
  },
  {
   "cell_type": "markdown",
   "metadata": {},
   "source": [
    "# Load and Prepare Dataset"
   ]
  },
  {
   "cell_type": "code",
   "execution_count": 2,
   "metadata": {},
   "outputs": [],
   "source": [
    "train = pd.read_csv(\"/home/sanjana/Documents/DSML/Data sets/Mnist/mnist_train.csv\")\n",
    "test = pd.read_csv(\"/home/sanjana/Documents/DSML/Data sets/Mnist/mnist_test.csv\")"
   ]
  },
  {
   "cell_type": "code",
   "execution_count": 3,
   "metadata": {},
   "outputs": [
    {
     "data": {
      "text/plain": [
       "((60000, 785), (10000, 785))"
      ]
     },
     "execution_count": 3,
     "metadata": {},
     "output_type": "execute_result"
    }
   ],
   "source": [
    "train.shape, test.shape"
   ]
  },
  {
   "cell_type": "code",
   "execution_count": 4,
   "metadata": {},
   "outputs": [
    {
     "data": {
      "text/html": [
       "<div>\n",
       "<style scoped>\n",
       "    .dataframe tbody tr th:only-of-type {\n",
       "        vertical-align: middle;\n",
       "    }\n",
       "\n",
       "    .dataframe tbody tr th {\n",
       "        vertical-align: top;\n",
       "    }\n",
       "\n",
       "    .dataframe thead th {\n",
       "        text-align: right;\n",
       "    }\n",
       "</style>\n",
       "<table border=\"1\" class=\"dataframe\">\n",
       "  <thead>\n",
       "    <tr style=\"text-align: right;\">\n",
       "      <th></th>\n",
       "      <th>label</th>\n",
       "      <th>1x1</th>\n",
       "      <th>1x2</th>\n",
       "      <th>1x3</th>\n",
       "      <th>1x4</th>\n",
       "      <th>1x5</th>\n",
       "      <th>1x6</th>\n",
       "      <th>1x7</th>\n",
       "      <th>1x8</th>\n",
       "      <th>1x9</th>\n",
       "      <th>...</th>\n",
       "      <th>28x19</th>\n",
       "      <th>28x20</th>\n",
       "      <th>28x21</th>\n",
       "      <th>28x22</th>\n",
       "      <th>28x23</th>\n",
       "      <th>28x24</th>\n",
       "      <th>28x25</th>\n",
       "      <th>28x26</th>\n",
       "      <th>28x27</th>\n",
       "      <th>28x28</th>\n",
       "    </tr>\n",
       "  </thead>\n",
       "  <tbody>\n",
       "    <tr>\n",
       "      <th>0</th>\n",
       "      <td>5</td>\n",
       "      <td>0</td>\n",
       "      <td>0</td>\n",
       "      <td>0</td>\n",
       "      <td>0</td>\n",
       "      <td>0</td>\n",
       "      <td>0</td>\n",
       "      <td>0</td>\n",
       "      <td>0</td>\n",
       "      <td>0</td>\n",
       "      <td>...</td>\n",
       "      <td>0</td>\n",
       "      <td>0</td>\n",
       "      <td>0</td>\n",
       "      <td>0</td>\n",
       "      <td>0</td>\n",
       "      <td>0</td>\n",
       "      <td>0</td>\n",
       "      <td>0</td>\n",
       "      <td>0</td>\n",
       "      <td>0</td>\n",
       "    </tr>\n",
       "    <tr>\n",
       "      <th>1</th>\n",
       "      <td>0</td>\n",
       "      <td>0</td>\n",
       "      <td>0</td>\n",
       "      <td>0</td>\n",
       "      <td>0</td>\n",
       "      <td>0</td>\n",
       "      <td>0</td>\n",
       "      <td>0</td>\n",
       "      <td>0</td>\n",
       "      <td>0</td>\n",
       "      <td>...</td>\n",
       "      <td>0</td>\n",
       "      <td>0</td>\n",
       "      <td>0</td>\n",
       "      <td>0</td>\n",
       "      <td>0</td>\n",
       "      <td>0</td>\n",
       "      <td>0</td>\n",
       "      <td>0</td>\n",
       "      <td>0</td>\n",
       "      <td>0</td>\n",
       "    </tr>\n",
       "    <tr>\n",
       "      <th>2</th>\n",
       "      <td>4</td>\n",
       "      <td>0</td>\n",
       "      <td>0</td>\n",
       "      <td>0</td>\n",
       "      <td>0</td>\n",
       "      <td>0</td>\n",
       "      <td>0</td>\n",
       "      <td>0</td>\n",
       "      <td>0</td>\n",
       "      <td>0</td>\n",
       "      <td>...</td>\n",
       "      <td>0</td>\n",
       "      <td>0</td>\n",
       "      <td>0</td>\n",
       "      <td>0</td>\n",
       "      <td>0</td>\n",
       "      <td>0</td>\n",
       "      <td>0</td>\n",
       "      <td>0</td>\n",
       "      <td>0</td>\n",
       "      <td>0</td>\n",
       "    </tr>\n",
       "    <tr>\n",
       "      <th>3</th>\n",
       "      <td>1</td>\n",
       "      <td>0</td>\n",
       "      <td>0</td>\n",
       "      <td>0</td>\n",
       "      <td>0</td>\n",
       "      <td>0</td>\n",
       "      <td>0</td>\n",
       "      <td>0</td>\n",
       "      <td>0</td>\n",
       "      <td>0</td>\n",
       "      <td>...</td>\n",
       "      <td>0</td>\n",
       "      <td>0</td>\n",
       "      <td>0</td>\n",
       "      <td>0</td>\n",
       "      <td>0</td>\n",
       "      <td>0</td>\n",
       "      <td>0</td>\n",
       "      <td>0</td>\n",
       "      <td>0</td>\n",
       "      <td>0</td>\n",
       "    </tr>\n",
       "    <tr>\n",
       "      <th>4</th>\n",
       "      <td>9</td>\n",
       "      <td>0</td>\n",
       "      <td>0</td>\n",
       "      <td>0</td>\n",
       "      <td>0</td>\n",
       "      <td>0</td>\n",
       "      <td>0</td>\n",
       "      <td>0</td>\n",
       "      <td>0</td>\n",
       "      <td>0</td>\n",
       "      <td>...</td>\n",
       "      <td>0</td>\n",
       "      <td>0</td>\n",
       "      <td>0</td>\n",
       "      <td>0</td>\n",
       "      <td>0</td>\n",
       "      <td>0</td>\n",
       "      <td>0</td>\n",
       "      <td>0</td>\n",
       "      <td>0</td>\n",
       "      <td>0</td>\n",
       "    </tr>\n",
       "  </tbody>\n",
       "</table>\n",
       "<p>5 rows × 785 columns</p>\n",
       "</div>"
      ],
      "text/plain": [
       "   label  1x1  1x2  1x3  1x4  1x5  1x6  1x7  1x8  1x9  ...  28x19  28x20  \\\n",
       "0      5    0    0    0    0    0    0    0    0    0  ...      0      0   \n",
       "1      0    0    0    0    0    0    0    0    0    0  ...      0      0   \n",
       "2      4    0    0    0    0    0    0    0    0    0  ...      0      0   \n",
       "3      1    0    0    0    0    0    0    0    0    0  ...      0      0   \n",
       "4      9    0    0    0    0    0    0    0    0    0  ...      0      0   \n",
       "\n",
       "   28x21  28x22  28x23  28x24  28x25  28x26  28x27  28x28  \n",
       "0      0      0      0      0      0      0      0      0  \n",
       "1      0      0      0      0      0      0      0      0  \n",
       "2      0      0      0      0      0      0      0      0  \n",
       "3      0      0      0      0      0      0      0      0  \n",
       "4      0      0      0      0      0      0      0      0  \n",
       "\n",
       "[5 rows x 785 columns]"
      ]
     },
     "execution_count": 4,
     "metadata": {},
     "output_type": "execute_result"
    }
   ],
   "source": [
    "train.head()"
   ]
  },
  {
   "cell_type": "code",
   "execution_count": 5,
   "metadata": {},
   "outputs": [
    {
     "data": {
      "text/plain": [
       "((60000, 784), (60000,))"
      ]
     },
     "execution_count": 5,
     "metadata": {},
     "output_type": "execute_result"
    }
   ],
   "source": [
    "X_train = np.asarray(train.drop(['label'], axis=1))\n",
    "y_train = np.asarray(train['label'])\n",
    "X_train.shape, y_train.shape"
   ]
  },
  {
   "cell_type": "code",
   "execution_count": 6,
   "metadata": {},
   "outputs": [
    {
     "data": {
      "text/plain": [
       "((10000, 784), (10000,))"
      ]
     },
     "execution_count": 6,
     "metadata": {},
     "output_type": "execute_result"
    }
   ],
   "source": [
    "X_test = np.asarray(test.drop(['label'], axis=1))\n",
    "y_test = np.asarray(test['label'])\n",
    "X_test.shape, y_test.shape"
   ]
  },
  {
   "cell_type": "code",
   "execution_count": 7,
   "metadata": {},
   "outputs": [],
   "source": [
    "X_train = X_train/255\n",
    "X_test = X_test/255"
   ]
  },
  {
   "cell_type": "markdown",
   "metadata": {},
   "source": [
    "# Data Exploration and Visualization"
   ]
  },
  {
   "cell_type": "code",
   "execution_count": 8,
   "metadata": {},
   "outputs": [
    {
     "name": "stdout",
     "output_type": "stream",
     "text": [
      "y_train values [0 1 2 3 4 5 6 7 8 9]\n",
      "y_test values [0 1 2 3 4 5 6 7 8 9]\n"
     ]
    }
   ],
   "source": [
    "print(\"y_train values\", np.unique(y_train))\n",
    "print(\"y_test values\", np.unique(y_test))"
   ]
  },
  {
   "cell_type": "code",
   "execution_count": 9,
   "metadata": {},
   "outputs": [
    {
     "name": "stdout",
     "output_type": "stream",
     "text": [
      "y_train distribuion {0: 5923, 1: 6742, 2: 5958, 3: 6131, 4: 5842, 5: 5421, 6: 5918, 7: 6265, 8: 5851, 9: 5949}\n",
      "y_test distribuion {0: 980, 1: 1135, 2: 1032, 3: 1010, 4: 982, 5: 892, 6: 958, 7: 1028, 8: 974, 9: 1009}\n"
     ]
    },
    {
     "data": {
      "text/plain": [
       "(array([ 980., 1135., 1032., 1010.,  982.,  892.,  958., 1028.,  974.,\n",
       "        1009.]),\n",
       " array([0. , 0.9, 1.8, 2.7, 3.6, 4.5, 5.4, 6.3, 7.2, 8.1, 9. ]),\n",
       " <a list of 10 Patch objects>)"
      ]
     },
     "execution_count": 9,
     "metadata": {},
     "output_type": "execute_result"
    },
    {
     "data": {
      "image/png": "[encoded data removed]",
      "text/plain": [
       "<Figure size 432x288 with 1 Axes>"
      ]
     },
     "metadata": {
      "needs_background": "light"
     },
     "output_type": "display_data"
    }
   ],
   "source": [
    "unique, counts = np.unique(y_train, return_counts=True)\n",
    "print(\"y_train distribuion\", dict(zip(unique, counts)))\n",
    "plt.hist(y_train, ec='black')\n",
    "unique, counts = np.unique(y_test, return_counts=True)\n",
    "print(\"y_test distribuion\", dict(zip(unique, counts)))\n",
    "plt.hist(y_test, ec='black')"
   ]
  },
  {
   "cell_type": "code",
   "execution_count": 10,
   "metadata": {},
   "outputs": [
    {
     "data": {
      "image/png": "[encoded data removed]",
      "text/plain": [
       "<Figure size 648x648 with 16 Axes>"
      ]
     },
     "metadata": {
      "needs_background": "light"
     },
     "output_type": "display_data"
    }
   ],
   "source": [
    "rows = 4\n",
    "cols = 4\n",
    "f = plt.figure(figsize=(rows+5,cols+5))\n",
    "for i in range(rows*cols):\n",
    "    f.add_subplot(rows,cols,i+1)\n",
    "    plt.imshow(X_train[i].reshape([28,28]), cmap='gray')"
   ]
  },
  {
   "cell_type": "markdown",
   "metadata": {},
   "source": [
    "# Build Autoencoder"
   ]
  },
  {
   "cell_type": "code",
   "execution_count": 11,
   "metadata": {},
   "outputs": [],
   "source": [
    "input_size =784\n",
    "h1_size = 196\n",
    "h2_size = 32"
   ]
  },
  {
   "cell_type": "code",
   "execution_count": 12,
   "metadata": {},
   "outputs": [],
   "source": [
    "x = Input(shape=(input_size,))\n",
    "\n",
    "h1 = Dense(h1_size, activation='relu')(x)\n",
    "h = Dense(h2_size, activation='relu')(h1)\n",
    "h2 = Dense(h1_size, activation='relu')(h)\n",
    "\n",
    "o = Dense(input_size, activation='sigmoid')(h2)"
   ]
  },
  {
   "cell_type": "code",
   "execution_count": 13,
   "metadata": {},
   "outputs": [
    {
     "name": "stdout",
     "output_type": "stream",
     "text": [
      "Model: \"model\"\n",
      "_________________________________________________________________\n",
      "Layer (type)                 Output Shape              Param #   \n",
      "=================================================================\n",
      "input_1 (InputLayer)         [(None, 784)]             0         \n",
      "_________________________________________________________________\n",
      "dense (Dense)                (None, 196)               153860    \n",
      "_________________________________________________________________\n",
      "dense_1 (Dense)              (None, 32)                6304      \n",
      "_________________________________________________________________\n",
      "dense_2 (Dense)              (None, 196)               6468      \n",
      "_________________________________________________________________\n",
      "dense_3 (Dense)              (None, 784)               154448    \n",
      "=================================================================\n",
      "Total params: 321,080\n",
      "Trainable params: 321,080\n",
      "Non-trainable params: 0\n",
      "_________________________________________________________________\n"
     ]
    }
   ],
   "source": [
    "autoencoder = Model(x,o)\n",
    "autoencoder.summary()"
   ]
  },
  {
   "cell_type": "code",
   "execution_count": 14,
   "metadata": {},
   "outputs": [],
   "source": [
    "autoencoder.compile(optimizer='adam', loss='binary_crossentropy', metrics='accuracy')"
   ]
  },
  {
   "cell_type": "markdown",
   "metadata": {},
   "source": [
    "# Train Model and Predict"
   ]
  },
  {
   "cell_type": "code",
   "execution_count": 15,
   "metadata": {},
   "outputs": [
    {
     "name": "stdout",
     "output_type": "stream",
     "text": [
      "Epoch 1/100\n",
      "1200/1200 [==============================] - 5s 4ms/step - loss: 0.1391 - accuracy: 0.0113 - val_loss: 0.1016 - val_accuracy: 0.0134\n",
      "Epoch 2/100\n",
      "1200/1200 [==============================] - 5s 4ms/step - loss: 0.0981 - accuracy: 0.0124 - val_loss: 0.0936 - val_accuracy: 0.0134\n",
      "Epoch 3/100\n",
      "1200/1200 [==============================] - 5s 4ms/step - loss: 0.0924 - accuracy: 0.0127 - val_loss: 0.0898 - val_accuracy: 0.0124\n",
      "Epoch 4/100\n",
      "1200/1200 [==============================] - 5s 4ms/step - loss: 0.0891 - accuracy: 0.0130 - val_loss: 0.0869 - val_accuracy: 0.0145\n",
      "Epoch 5/100\n",
      "1200/1200 [==============================] - 5s 5ms/step - loss: 0.0868 - accuracy: 0.0127 - val_loss: 0.0849 - val_accuracy: 0.0136\n",
      "Epoch 6/100\n",
      "1200/1200 [==============================] - 5s 5ms/step - loss: 0.0851 - accuracy: 0.0135 - val_loss: 0.0840 - val_accuracy: 0.0135\n",
      "Epoch 7/100\n",
      "1200/1200 [==============================] - 5s 5ms/step - loss: 0.0840 - accuracy: 0.0129 - val_loss: 0.0828 - val_accuracy: 0.0137\n",
      "Epoch 8/100\n",
      "1200/1200 [==============================] - 5s 5ms/step - loss: 0.0831 - accuracy: 0.0140 - val_loss: 0.0820 - val_accuracy: 0.0147\n",
      "Epoch 9/100\n",
      "1200/1200 [==============================] - 5s 5ms/step - loss: 0.0824 - accuracy: 0.0141 - val_loss: 0.0812 - val_accuracy: 0.0134\n",
      "Epoch 10/100\n",
      "1200/1200 [==============================] - 6s 5ms/step - loss: 0.0818 - accuracy: 0.0137 - val_loss: 0.0812 - val_accuracy: 0.0149\n",
      "Epoch 11/100\n",
      "1200/1200 [==============================] - 6s 5ms/step - loss: 0.0813 - accuracy: 0.0133 - val_loss: 0.0807 - val_accuracy: 0.0150\n",
      "Epoch 12/100\n",
      "1200/1200 [==============================] - 6s 5ms/step - loss: 0.0809 - accuracy: 0.0140 - val_loss: 0.0804 - val_accuracy: 0.0146\n",
      "Epoch 13/100\n",
      "1200/1200 [==============================] - 6s 5ms/step - loss: 0.0805 - accuracy: 0.0141 - val_loss: 0.0800 - val_accuracy: 0.0145\n",
      "Epoch 14/100\n",
      "1200/1200 [==============================] - 6s 5ms/step - loss: 0.0802 - accuracy: 0.0145 - val_loss: 0.0799 - val_accuracy: 0.0122\n",
      "Epoch 15/100\n",
      "1200/1200 [==============================] - 6s 5ms/step - loss: 0.0800 - accuracy: 0.0144 - val_loss: 0.0796 - val_accuracy: 0.0138\n",
      "Epoch 16/100\n",
      "1200/1200 [==============================] - 6s 5ms/step - loss: 0.0797 - accuracy: 0.0146 - val_loss: 0.0795 - val_accuracy: 0.0148\n",
      "Epoch 17/100\n",
      "1200/1200 [==============================] - 6s 5ms/step - loss: 0.0795 - accuracy: 0.0146 - val_loss: 0.0791 - val_accuracy: 0.0152\n",
      "Epoch 18/100\n",
      "1200/1200 [==============================] - 6s 5ms/step - loss: 0.0793 - accuracy: 0.0152 - val_loss: 0.0790 - val_accuracy: 0.0136\n",
      "Epoch 19/100\n",
      "1200/1200 [==============================] - 6s 5ms/step - loss: 0.0791 - accuracy: 0.0146 - val_loss: 0.0789 - val_accuracy: 0.0121\n",
      "Epoch 20/100\n",
      "1200/1200 [==============================] - 6s 5ms/step - loss: 0.0789 - accuracy: 0.0153 - val_loss: 0.0789 - val_accuracy: 0.0136\n",
      "Epoch 21/100\n",
      "1200/1200 [==============================] - 6s 5ms/step - loss: 0.0788 - accuracy: 0.0151 - val_loss: 0.0785 - val_accuracy: 0.0140\n",
      "Epoch 22/100\n",
      "1200/1200 [==============================] - 6s 5ms/step - loss: 0.0786 - accuracy: 0.0149 - val_loss: 0.0785 - val_accuracy: 0.0130\n",
      "Epoch 23/100\n",
      "1200/1200 [==============================] - 6s 5ms/step - loss: 0.0785 - accuracy: 0.0149 - val_loss: 0.0785 - val_accuracy: 0.0149\n",
      "Epoch 24/100\n",
      "1200/1200 [==============================] - 6s 5ms/step - loss: 0.0784 - accuracy: 0.0162 - val_loss: 0.0781 - val_accuracy: 0.0164\n",
      "Epoch 25/100\n",
      "1200/1200 [==============================] - 6s 5ms/step - loss: 0.0783 - accuracy: 0.0157 - val_loss: 0.0784 - val_accuracy: 0.0149\n",
      "Epoch 26/100\n",
      "1200/1200 [==============================] - 6s 5ms/step - loss: 0.0782 - accuracy: 0.0154 - val_loss: 0.0785 - val_accuracy: 0.0137\n",
      "Epoch 27/100\n",
      "1200/1200 [==============================] - 6s 5ms/step - loss: 0.0781 - accuracy: 0.0151 - val_loss: 0.0778 - val_accuracy: 0.0163\n",
      "Epoch 28/100\n",
      "1200/1200 [==============================] - 6s 5ms/step - loss: 0.0780 - accuracy: 0.0156 - val_loss: 0.0777 - val_accuracy: 0.0148\n",
      "Epoch 29/100\n",
      "1200/1200 [==============================] - 6s 5ms/step - loss: 0.0779 - accuracy: 0.0146 - val_loss: 0.0778 - val_accuracy: 0.0145\n",
      "Epoch 30/100\n",
      "1200/1200 [==============================] - 6s 5ms/step - loss: 0.0778 - accuracy: 0.0152 - val_loss: 0.0777 - val_accuracy: 0.0128\n",
      "Epoch 31/100\n",
      "1200/1200 [==============================] - 6s 5ms/step - loss: 0.0777 - accuracy: 0.0157 - val_loss: 0.0777 - val_accuracy: 0.0143\n",
      "Epoch 32/100\n",
      "1200/1200 [==============================] - 6s 5ms/step - loss: 0.0777 - accuracy: 0.0151 - val_loss: 0.0779 - val_accuracy: 0.0130\n",
      "Epoch 33/100\n",
      "1200/1200 [==============================] - 6s 5ms/step - loss: 0.0776 - accuracy: 0.0143 - val_loss: 0.0775 - val_accuracy: 0.0181\n",
      "Epoch 34/100\n",
      "1200/1200 [==============================] - 6s 5ms/step - loss: 0.0775 - accuracy: 0.0153 - val_loss: 0.0776 - val_accuracy: 0.0145\n",
      "Epoch 35/100\n",
      "1200/1200 [==============================] - 6s 5ms/step - loss: 0.0775 - accuracy: 0.0155 - val_loss: 0.0775 - val_accuracy: 0.0136\n",
      "Epoch 36/100\n",
      "1200/1200 [==============================] - 6s 5ms/step - loss: 0.0774 - accuracy: 0.0146 - val_loss: 0.0774 - val_accuracy: 0.0118\n",
      "Epoch 37/100\n",
      "1200/1200 [==============================] - 6s 5ms/step - loss: 0.0774 - accuracy: 0.0158 - val_loss: 0.0773 - val_accuracy: 0.0140\n",
      "Epoch 38/100\n",
      "1200/1200 [==============================] - 6s 5ms/step - loss: 0.0773 - accuracy: 0.0154 - val_loss: 0.0773 - val_accuracy: 0.0121\n",
      "Epoch 39/100\n",
      "1200/1200 [==============================] - 6s 5ms/step - loss: 0.0772 - accuracy: 0.0156 - val_loss: 0.0775 - val_accuracy: 0.0144\n",
      "Epoch 40/100\n",
      "1200/1200 [==============================] - 6s 5ms/step - loss: 0.0772 - accuracy: 0.0153 - val_loss: 0.0772 - val_accuracy: 0.0167\n",
      "Epoch 41/100\n",
      "1200/1200 [==============================] - 6s 5ms/step - loss: 0.0771 - accuracy: 0.0153 - val_loss: 0.0771 - val_accuracy: 0.0134\n",
      "Epoch 42/100\n",
      "1200/1200 [==============================] - 5s 5ms/step - loss: 0.0771 - accuracy: 0.0154 - val_loss: 0.0770 - val_accuracy: 0.0137\n",
      "Epoch 43/100\n",
      "1200/1200 [==============================] - 5s 5ms/step - loss: 0.0771 - accuracy: 0.0152 - val_loss: 0.0772 - val_accuracy: 0.0143\n",
      "Epoch 44/100\n",
      "1200/1200 [==============================] - 5s 5ms/step - loss: 0.0770 - accuracy: 0.0148 - val_loss: 0.0769 - val_accuracy: 0.0154\n",
      "Epoch 45/100\n",
      "1200/1200 [==============================] - 5s 5ms/step - loss: 0.0770 - accuracy: 0.0154 - val_loss: 0.0772 - val_accuracy: 0.0130\n",
      "Epoch 46/100\n",
      "1200/1200 [==============================] - 6s 5ms/step - loss: 0.0769 - accuracy: 0.0150 - val_loss: 0.0768 - val_accuracy: 0.0155\n",
      "Epoch 47/100\n",
      "1200/1200 [==============================] - 5s 5ms/step - loss: 0.0769 - accuracy: 0.0153 - val_loss: 0.0771 - val_accuracy: 0.0148\n",
      "Epoch 48/100\n",
      "1200/1200 [==============================] - 5s 5ms/step - loss: 0.0769 - accuracy: 0.0157 - val_loss: 0.0768 - val_accuracy: 0.0148\n",
      "Epoch 49/100\n",
      "1200/1200 [==============================] - 6s 5ms/step - loss: 0.0768 - accuracy: 0.0159 - val_loss: 0.0769 - val_accuracy: 0.0135\n",
      "Epoch 50/100\n",
      "1200/1200 [==============================] - 5s 5ms/step - loss: 0.0768 - accuracy: 0.0160 - val_loss: 0.0768 - val_accuracy: 0.0126\n",
      "Epoch 51/100\n",
      "1200/1200 [==============================] - 5s 5ms/step - loss: 0.0767 - accuracy: 0.0156 - val_loss: 0.0768 - val_accuracy: 0.0124\n",
      "Epoch 52/100\n",
      "1200/1200 [==============================] - 5s 5ms/step - loss: 0.0767 - accuracy: 0.0156 - val_loss: 0.0768 - val_accuracy: 0.0130\n",
      "Epoch 53/100\n",
      "1200/1200 [==============================] - 5s 5ms/step - loss: 0.0767 - accuracy: 0.0152 - val_loss: 0.0766 - val_accuracy: 0.0114\n",
      "Epoch 54/100\n",
      "1200/1200 [==============================] - 5s 5ms/step - loss: 0.0767 - accuracy: 0.0156 - val_loss: 0.0766 - val_accuracy: 0.0162\n",
      "Epoch 55/100\n",
      "1200/1200 [==============================] - 6s 5ms/step - loss: 0.0766 - accuracy: 0.0160 - val_loss: 0.0768 - val_accuracy: 0.0156\n",
      "Epoch 56/100\n",
      "1200/1200 [==============================] - 6s 5ms/step - loss: 0.0766 - accuracy: 0.0157 - val_loss: 0.0766 - val_accuracy: 0.0130\n",
      "Epoch 57/100\n",
      "1200/1200 [==============================] - 5s 4ms/step - loss: 0.0766 - accuracy: 0.0158 - val_loss: 0.0767 - val_accuracy: 0.0129\n",
      "Epoch 58/100\n",
      "1200/1200 [==============================] - 5s 4ms/step - loss: 0.0765 - accuracy: 0.0156 - val_loss: 0.0766 - val_accuracy: 0.0141\n",
      "Epoch 59/100\n",
      "1200/1200 [==============================] - 5s 4ms/step - loss: 0.0765 - accuracy: 0.0154 - val_loss: 0.0768 - val_accuracy: 0.0163\n",
      "Epoch 60/100\n",
      "1200/1200 [==============================] - 5s 4ms/step - loss: 0.0765 - accuracy: 0.0154 - val_loss: 0.0766 - val_accuracy: 0.0145\n",
      "Epoch 61/100\n",
      "1200/1200 [==============================] - 5s 4ms/step - loss: 0.0765 - accuracy: 0.0163 - val_loss: 0.0766 - val_accuracy: 0.0155\n",
      "Epoch 62/100\n",
      "1200/1200 [==============================] - 5s 4ms/step - loss: 0.0764 - accuracy: 0.0161 - val_loss: 0.0767 - val_accuracy: 0.0140\n",
      "Epoch 63/100\n",
      "1200/1200 [==============================] - 5s 4ms/step - loss: 0.0764 - accuracy: 0.0159 - val_loss: 0.0766 - val_accuracy: 0.0158\n",
      "Epoch 64/100\n",
      "1200/1200 [==============================] - 5s 4ms/step - loss: 0.0764 - accuracy: 0.0167 - val_loss: 0.0766 - val_accuracy: 0.0167\n",
      "Epoch 65/100\n",
      "1200/1200 [==============================] - 5s 4ms/step - loss: 0.0764 - accuracy: 0.0155 - val_loss: 0.0764 - val_accuracy: 0.0182\n",
      "Epoch 66/100\n",
      "1200/1200 [==============================] - 5s 4ms/step - loss: 0.0763 - accuracy: 0.0165 - val_loss: 0.0766 - val_accuracy: 0.0153\n",
      "Epoch 67/100\n",
      "1200/1200 [==============================] - 5s 4ms/step - loss: 0.0763 - accuracy: 0.0158 - val_loss: 0.0766 - val_accuracy: 0.0140\n",
      "Epoch 68/100\n",
      "1200/1200 [==============================] - 5s 4ms/step - loss: 0.0763 - accuracy: 0.0154 - val_loss: 0.0765 - val_accuracy: 0.0149\n",
      "Epoch 69/100\n",
      "1200/1200 [==============================] - 5s 4ms/step - loss: 0.0763 - accuracy: 0.0160 - val_loss: 0.0765 - val_accuracy: 0.0159\n",
      "Epoch 70/100\n",
      "1200/1200 [==============================] - 6s 5ms/step - loss: 0.0762 - accuracy: 0.0152 - val_loss: 0.0764 - val_accuracy: 0.0156\n",
      "Epoch 71/100\n",
      "1200/1200 [==============================] - 6s 5ms/step - loss: 0.0762 - accuracy: 0.0156 - val_loss: 0.0764 - val_accuracy: 0.0149\n",
      "Epoch 72/100\n",
      "1200/1200 [==============================] - 6s 5ms/step - loss: 0.0762 - accuracy: 0.0160 - val_loss: 0.0765 - val_accuracy: 0.0155\n",
      "Epoch 73/100\n",
      "1200/1200 [==============================] - 6s 5ms/step - loss: 0.0762 - accuracy: 0.0151 - val_loss: 0.0764 - val_accuracy: 0.0151\n",
      "Epoch 74/100\n",
      "1200/1200 [==============================] - 5s 5ms/step - loss: 0.0762 - accuracy: 0.0163 - val_loss: 0.0764 - val_accuracy: 0.0145\n",
      "Epoch 75/100\n",
      "1200/1200 [==============================] - 5s 4ms/step - loss: 0.0761 - accuracy: 0.0154 - val_loss: 0.0763 - val_accuracy: 0.0167\n",
      "Epoch 76/100\n",
      "1200/1200 [==============================] - 5s 4ms/step - loss: 0.0761 - accuracy: 0.0154 - val_loss: 0.0763 - val_accuracy: 0.0165\n",
      "Epoch 77/100\n",
      "1200/1200 [==============================] - 5s 4ms/step - loss: 0.0761 - accuracy: 0.0154 - val_loss: 0.0764 - val_accuracy: 0.0138\n",
      "Epoch 78/100\n",
      "1200/1200 [==============================] - 5s 4ms/step - loss: 0.0761 - accuracy: 0.0156 - val_loss: 0.0762 - val_accuracy: 0.0164\n",
      "Epoch 79/100\n",
      "1200/1200 [==============================] - 5s 4ms/step - loss: 0.0761 - accuracy: 0.0158 - val_loss: 0.0764 - val_accuracy: 0.0155\n",
      "Epoch 80/100\n",
      "1200/1200 [==============================] - 6s 5ms/step - loss: 0.0761 - accuracy: 0.0162 - val_loss: 0.0761 - val_accuracy: 0.0142\n",
      "Epoch 81/100\n",
      "1200/1200 [==============================] - 5s 4ms/step - loss: 0.0760 - accuracy: 0.0158 - val_loss: 0.0763 - val_accuracy: 0.0149\n",
      "Epoch 82/100\n",
      "1200/1200 [==============================] - 5s 4ms/step - loss: 0.0760 - accuracy: 0.0160 - val_loss: 0.0763 - val_accuracy: 0.0150\n",
      "Epoch 83/100\n",
      "1200/1200 [==============================] - 7s 6ms/step - loss: 0.0760 - accuracy: 0.0160 - val_loss: 0.0763 - val_accuracy: 0.0143\n",
      "Epoch 84/100\n",
      "1200/1200 [==============================] - 5s 4ms/step - loss: 0.0760 - accuracy: 0.0158 - val_loss: 0.0761 - val_accuracy: 0.0157\n",
      "Epoch 85/100\n",
      "1200/1200 [==============================] - 6s 5ms/step - loss: 0.0760 - accuracy: 0.0154 - val_loss: 0.0762 - val_accuracy: 0.0134\n",
      "Epoch 86/100\n",
      "1200/1200 [==============================] - 7s 6ms/step - loss: 0.0759 - accuracy: 0.0163 - val_loss: 0.0763 - val_accuracy: 0.0147\n",
      "Epoch 87/100\n",
      "1200/1200 [==============================] - 5s 4ms/step - loss: 0.0759 - accuracy: 0.0158 - val_loss: 0.0763 - val_accuracy: 0.0177\n",
      "Epoch 88/100\n",
      "1200/1200 [==============================] - 5s 4ms/step - loss: 0.0759 - accuracy: 0.0155 - val_loss: 0.0764 - val_accuracy: 0.0154\n",
      "Epoch 89/100\n",
      "1200/1200 [==============================] - 6s 5ms/step - loss: 0.0759 - accuracy: 0.0152 - val_loss: 0.0761 - val_accuracy: 0.0130\n",
      "Epoch 90/100\n",
      "1200/1200 [==============================] - 6s 5ms/step - loss: 0.0759 - accuracy: 0.0153 - val_loss: 0.0761 - val_accuracy: 0.0134\n",
      "Epoch 91/100\n",
      "1200/1200 [==============================] - 7s 6ms/step - loss: 0.0759 - accuracy: 0.0156 - val_loss: 0.0763 - val_accuracy: 0.0130\n",
      "Epoch 92/100\n",
      "1200/1200 [==============================] - 6s 5ms/step - loss: 0.0759 - accuracy: 0.0158 - val_loss: 0.0761 - val_accuracy: 0.0148\n",
      "Epoch 93/100\n",
      "1200/1200 [==============================] - 6s 5ms/step - loss: 0.0758 - accuracy: 0.0154 - val_loss: 0.0762 - val_accuracy: 0.0138\n",
      "Epoch 94/100\n",
      "1200/1200 [==============================] - 5s 4ms/step - loss: 0.0758 - accuracy: 0.0152 - val_loss: 0.0760 - val_accuracy: 0.0151\n",
      "Epoch 95/100\n",
      "1200/1200 [==============================] - 5s 4ms/step - loss: 0.0758 - accuracy: 0.0152 - val_loss: 0.0761 - val_accuracy: 0.0142\n",
      "Epoch 96/100\n",
      "1200/1200 [==============================] - 5s 4ms/step - loss: 0.0758 - accuracy: 0.0155 - val_loss: 0.0762 - val_accuracy: 0.0146\n",
      "Epoch 97/100\n",
      "1200/1200 [==============================] - 5s 4ms/step - loss: 0.0758 - accuracy: 0.0150 - val_loss: 0.0761 - val_accuracy: 0.0171\n",
      "Epoch 98/100\n",
      "1200/1200 [==============================] - 5s 4ms/step - loss: 0.0758 - accuracy: 0.0155 - val_loss: 0.0760 - val_accuracy: 0.0149\n",
      "Epoch 99/100\n",
      "1200/1200 [==============================] - 7s 6ms/step - loss: 0.0758 - accuracy: 0.0153 - val_loss: 0.0761 - val_accuracy: 0.0154\n",
      "Epoch 100/100\n",
      "1200/1200 [==============================] - 8s 7ms/step - loss: 0.0758 - accuracy: 0.0152 - val_loss: 0.0763 - val_accuracy: 0.0121\n"
     ]
    }
   ],
   "source": [
    "history = autoencoder.fit(X_train, X_train, \n",
    "                          batch_size=50, \n",
    "                          epochs=100, \n",
    "                          shuffle=True, \n",
    "                          validation_data=(X_test, X_test))\n",
    "\n",
    "decoded_digits = autoencoder.predict(X_test)"
   ]
  },
  {
   "cell_type": "code",
   "execution_count": 19,
   "metadata": {},
   "outputs": [
    {
     "data": {
      "image/png": "[encoded data removed]",
      "text/plain": [
       "<Figure size 432x288 with 1 Axes>"
      ]
     },
     "metadata": {
      "needs_background": "light"
     },
     "output_type": "display_data"
    }
   ],
   "source": [
    "plt.plot(history.history['loss'])\n",
    "plt.plot(history.history['val_loss'])\n",
    "plt.title('Autoencoder Model loss')\n",
    "plt.ylabel('Loss')\n",
    "plt.xlabel('Epoch')\n",
    "plt.legend(['Train', 'Test'], loc='upper left')\n",
    "plt.show()"
   ]
  },
  {
   "cell_type": "code",
   "execution_count": 20,
   "metadata": {},
   "outputs": [
    {
     "data": {
      "text/plain": [
       "[<matplotlib.lines.Line2D at 0x7fe855c69b20>]"
      ]
     },
     "execution_count": 20,
     "metadata": {},
     "output_type": "execute_result"
    },
    {
     "data": {
      "image/png": "[encoded data removed]",
      "text/plain": [
       "<Figure size 432x288 with 1 Axes>"
      ]
     },
     "metadata": {
      "needs_background": "light"
     },
     "output_type": "display_data"
    }
   ],
   "source": [
    "plt.plot(history.history['accuracy'])"
   ]
  },
  {
   "cell_type": "code",
   "execution_count": 21,
   "metadata": {},
   "outputs": [
    {
     "data": {
      "image/png": "[encoded data removed]",
      "text/plain": [
       "<Figure size 1440x288 with 20 Axes>"
      ]
     },
     "metadata": {
      "needs_background": "light"
     },
     "output_type": "display_data"
    }
   ],
   "source": [
    "n=10\n",
    "plt.figure(figsize=(20, 4))\n",
    "for i in range(n):\n",
    "    ax = plt.subplot(2, n, i + 1)\n",
    "    plt.imshow(X_test[i+50].reshape(28, 28))\n",
    "    plt.gray()\n",
    "    ax.get_xaxis().set_visible(False)\n",
    "    ax.get_yaxis().set_visible(False)\n",
    "    \n",
    "    ax = plt.subplot(2, n, i + 1 + n)\n",
    "    plt.imshow(decoded_digits[i+50].reshape(28, 28))\n",
    "    plt.gray()\n",
    "    ax.get_xaxis().set_visible(False)\n",
    "    ax.get_yaxis().set_visible(False)\n",
    "plt.show()"
   ]
  }
 ],
 "metadata": {
  "kernelspec": {
   "display_name": "Python 3",
   "language": "python",
   "name": "python3"
  },
  "language_info": {
   "codemirror_mode": {
    "name": "ipython",
    "version": 3
   },
   "file_extension": ".py",
   "mimetype": "text/x-python",
   "name": "python",
   "nbconvert_exporter": "python",
   "pygments_lexer": "ipython3",
   "version": "3.8.2"
  }
 },
 "nbformat": 4,
 "nbformat_minor": 4
}
